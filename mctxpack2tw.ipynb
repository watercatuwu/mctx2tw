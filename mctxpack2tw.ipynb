{
  "nbformat": 4,
  "nbformat_minor": 0,
  "metadata": {
    "colab": {
      "provenance": []
    },
    "kernelspec": {
      "name": "python3",
      "display_name": "Python 3"
    },
    "language_info": {
      "name": "python"
    }
  },
  "cells": [
    {
      "cell_type": "markdown",
      "source": [
        "上傳材質包壓縮檔(xxx.zip)"
      ],
      "metadata": {
        "id": "MhBCK-j9NFHi"
      }
    },
    {
      "cell_type": "code",
      "source": [
        "from google.colab import files\n",
        "\n",
        "uploaded = files.upload()\n",
        "filename = list(uploaded.keys())[0]"
      ],
      "metadata": {
        "id": "zzi5DAMgLKS5"
      },
      "execution_count": null,
      "outputs": []
    },
    {
      "cell_type": "markdown",
      "source": [
        "安裝opencc簡轉繁"
      ],
      "metadata": {
        "id": "TrAEJ9pWNPwi"
      }
    },
    {
      "cell_type": "code",
      "execution_count": null,
      "metadata": {
        "id": "f54S27ZqKdt6"
      },
      "outputs": [],
      "source": [
        "!pip install OpenCC==1.1.7"
      ]
    },
    {
      "cell_type": "markdown",
      "source": [
        "執行處理程式"
      ],
      "metadata": {
        "id": "fCEAoiE9NXs8"
      }
    },
    {
      "cell_type": "code",
      "source": [
        "import zipfile\n",
        "import os\n",
        "import json\n",
        "import shutil\n",
        "from opencc import OpenCC\n",
        "\n",
        "workdir = './zip'\n",
        "os.mkdir(workdir)\n",
        "with zipfile.ZipFile(filename, 'r') as ZIP:\n",
        "    ZIP.extractall(workdir)\n",
        "\n",
        "converter = OpenCC('s2twp.json')\n",
        "data = \"\"\n",
        "\n",
        "for path in os.listdir(path='./zip/assets'):\n",
        "    with open(f'./{workdir}/assets/{path}/lang/zh_cn.json', 'r', encoding='utf-8') as file:\n",
        "        data = json.load(file)\n",
        "        for line in data:\n",
        "            data[line] = converter.convert(data[line])\n",
        "\n",
        "    with open(f'./{workdir}/assets/{path}/lang/zh_tw.json', 'w', encoding='utf-8') as newfile:\n",
        "        json.dump(data, newfile, ensure_ascii=False, indent=4)\n",
        "\n",
        "#參考chatgpt\n",
        "def zip_dir(directory, zip_name):\n",
        "    with zipfile.ZipFile(zip_name, 'w', zipfile.ZIP_DEFLATED) as zipf:\n",
        "        for root, dirs, files in os.walk(directory):\n",
        "            for file in files:\n",
        "                file_path = os.path.join(root, file)\n",
        "                zipf.write(file_path, os.path.relpath(file_path, directory))\n",
        "\n",
        "\n",
        "newfile = filename[:-4]+\"_tw.zip\"\n",
        "zip_dir(workdir, newfile)\n",
        "shutil.rmtree(workdir)\n",
        "files.download(newfile)\n",
        "print(\"done.\")"
      ],
      "metadata": {
        "id": "oi3tYDgRMQlx"
      },
      "execution_count": null,
      "outputs": []
    }
  ]
}